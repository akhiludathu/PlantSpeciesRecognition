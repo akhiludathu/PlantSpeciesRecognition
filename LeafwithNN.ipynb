{
 "cells": [
  {
   "cell_type": "code",
   "execution_count": 1,
   "metadata": {
    "collapsed": false
   },
   "outputs": [
    {
     "name": "stderr",
     "output_type": "stream",
     "text": [
      "C:\\Users\\akhil\\Anaconda3\\lib\\site-packages\\sklearn\\cross_validation.py:44: DeprecationWarning: This module was deprecated in version 0.18 in favor of the model_selection module into which all the refactored classes and functions are moved. Also note that the interface of the new CV iterators are different from that of this module. This module will be removed in 0.20.\n",
      "  \"This module will be removed in 0.20.\", DeprecationWarning)\n",
      "Using TensorFlow backend.\n"
     ]
    }
   ],
   "source": [
    "import numpy as np\n",
    "import pandas as pd\n",
    "import seaborn as sns\n",
    "import matplotlib.pyplot as plt\n",
    "\n",
    "from sklearn.preprocessing import StandardScaler\n",
    "from sklearn.cross_validation import train_test_split\n",
    "from sklearn.preprocessing import LabelEncoder\n",
    "\n",
    "from keras.models import Sequential\n",
    "from keras.layers import Dense, Dropout, Activation\n",
    "from keras.utils.np_utils import to_categorical"
   ]
  },
  {
   "cell_type": "code",
   "execution_count": 2,
   "metadata": {
    "collapsed": true
   },
   "outputs": [],
   "source": [
    "train = pd.read_csv(\"train.csv\")\n",
    "test = pd.read_csv(\"test.csv\")"
   ]
  },
  {
   "cell_type": "code",
   "execution_count": 3,
   "metadata": {
    "collapsed": false
   },
   "outputs": [],
   "source": [
    "id = train.pop('id')\n",
    "y = train.pop('species')\n",
    "y =LabelEncoder().fit(y).transform(y)\n"
   ]
  },
  {
   "cell_type": "code",
   "execution_count": 4,
   "metadata": {
    "collapsed": true
   },
   "outputs": [],
   "source": [
    "X = StandardScaler().fit(train).transform(train)"
   ]
  },
  {
   "cell_type": "code",
   "execution_count": 5,
   "metadata": {
    "collapsed": true
   },
   "outputs": [],
   "source": [
    "y = to_categorical(y)\n"
   ]
  },
  {
   "cell_type": "code",
   "execution_count": 6,
   "metadata": {
    "collapsed": false
   },
   "outputs": [],
   "source": [
    "model = Sequential()\n",
    "model.add(Dense(1024,input_dim=192))\n",
    "model.add(Dropout(0.2))\n",
    "model.add(Activation('sigmoid'))\n",
    "model.add(Dense(512))\n",
    "model.add(Dropout(0.3))\n",
    "model.add(Activation('sigmoid'))\n",
    "model.add(Dense(99))\n",
    "model.add(Activation('softmax'))"
   ]
  },
  {
   "cell_type": "code",
   "execution_count": 7,
   "metadata": {
    "collapsed": false
   },
   "outputs": [],
   "source": [
    "model.compile(optimizer = 'rmsprop', loss = 'categorical_crossentropy')"
   ]
  },
  {
   "cell_type": "code",
   "execution_count": 8,
   "metadata": {
    "collapsed": false
   },
   "outputs": [
    {
     "name": "stdout",
     "output_type": "stream",
     "text": [
      "Epoch 1/100\n",
      "990/990 [==============================] - 0s - loss: 4.7709     \n",
      "Epoch 2/100\n",
      "990/990 [==============================] - 0s - loss: 4.3240     \n",
      "Epoch 3/100\n",
      "990/990 [==============================] - 0s - loss: 4.0269     \n",
      "Epoch 4/100\n",
      "990/990 [==============================] - 0s - loss: 3.7085     \n",
      "Epoch 5/100\n",
      "990/990 [==============================] - 0s - loss: 3.4071     \n",
      "Epoch 6/100\n",
      "990/990 [==============================] - 0s - loss: 3.1174     \n",
      "Epoch 7/100\n",
      "990/990 [==============================] - 0s - loss: 2.8300     \n",
      "Epoch 8/100\n",
      "990/990 [==============================] - 0s - loss: 2.5924     \n",
      "Epoch 9/100\n",
      "990/990 [==============================] - 0s - loss: 2.3485     \n",
      "Epoch 10/100\n",
      "990/990 [==============================] - 0s - loss: 2.1126     \n",
      "Epoch 11/100\n",
      "990/990 [==============================] - 0s - loss: 1.8942     \n",
      "Epoch 12/100\n",
      "990/990 [==============================] - 0s - loss: 1.6828     \n",
      "Epoch 13/100\n",
      "990/990 [==============================] - 0s - loss: 1.5181     \n",
      "Epoch 14/100\n",
      "990/990 [==============================] - 0s - loss: 1.3372     \n",
      "Epoch 15/100\n",
      "990/990 [==============================] - 0s - loss: 1.1812     \n",
      "Epoch 16/100\n",
      "990/990 [==============================] - 0s - loss: 1.0449     \n",
      "Epoch 17/100\n",
      "990/990 [==============================] - 0s - loss: 0.9109     \n",
      "Epoch 18/100\n",
      "990/990 [==============================] - 0s - loss: 0.7990     \n",
      "Epoch 19/100\n",
      "990/990 [==============================] - 0s - loss: 0.7032     \n",
      "Epoch 20/100\n",
      "990/990 [==============================] - 0s - loss: 0.6087     \n",
      "Epoch 21/100\n",
      "990/990 [==============================] - 0s - loss: 0.5328     \n",
      "Epoch 22/100\n",
      "990/990 [==============================] - 0s - loss: 0.4602     \n",
      "Epoch 23/100\n",
      "990/990 [==============================] - 0s - loss: 0.4056     \n",
      "Epoch 24/100\n",
      "990/990 [==============================] - 0s - loss: 0.3558     \n",
      "Epoch 25/100\n",
      "990/990 [==============================] - 0s - loss: 0.3069     \n",
      "Epoch 26/100\n",
      "990/990 [==============================] - 0s - loss: 0.2597     \n",
      "Epoch 27/100\n",
      "990/990 [==============================] - 0s - loss: 0.2310     \n",
      "Epoch 28/100\n",
      "990/990 [==============================] - 0s - loss: 0.1947     \n",
      "Epoch 29/100\n",
      "990/990 [==============================] - 0s - loss: 0.1813     \n",
      "Epoch 30/100\n",
      "990/990 [==============================] - 0s - loss: 0.1597     \n",
      "Epoch 31/100\n",
      "990/990 [==============================] - 0s - loss: 0.1296     \n",
      "Epoch 32/100\n",
      "990/990 [==============================] - 0s - loss: 0.1153     \n",
      "Epoch 33/100\n",
      "990/990 [==============================] - 0s - loss: 0.1033     \n",
      "Epoch 34/100\n",
      "990/990 [==============================] - 0s - loss: 0.0889     \n",
      "Epoch 35/100\n",
      "990/990 [==============================] - 0s - loss: 0.0785     \n",
      "Epoch 36/100\n",
      "990/990 [==============================] - 0s - loss: 0.0665     \n",
      "Epoch 37/100\n",
      "990/990 [==============================] - 0s - loss: 0.0632     \n",
      "Epoch 38/100\n",
      "990/990 [==============================] - 0s - loss: 0.0505     \n",
      "Epoch 39/100\n",
      "990/990 [==============================] - 0s - loss: 0.0445     \n",
      "Epoch 40/100\n",
      "990/990 [==============================] - 0s - loss: 0.0389     \n",
      "Epoch 41/100\n",
      "990/990 [==============================] - 0s - loss: 0.0331     \n",
      "Epoch 42/100\n",
      "990/990 [==============================] - 0s - loss: 0.0292     \n",
      "Epoch 43/100\n",
      "990/990 [==============================] - 0s - loss: 0.0265     \n",
      "Epoch 44/100\n",
      "990/990 [==============================] - 0s - loss: 0.0209     \n",
      "Epoch 45/100\n",
      "990/990 [==============================] - 0s - loss: 0.0207     \n",
      "Epoch 46/100\n",
      "990/990 [==============================] - 0s - loss: 0.0161     \n",
      "Epoch 47/100\n",
      "990/990 [==============================] - 0s - loss: 0.0146     \n",
      "Epoch 48/100\n",
      "990/990 [==============================] - 0s - loss: 0.0120     \n",
      "Epoch 49/100\n",
      "990/990 [==============================] - 0s - loss: 0.0123     \n",
      "Epoch 50/100\n",
      "990/990 [==============================] - 0s - loss: 0.0090     \n",
      "Epoch 51/100\n",
      "990/990 [==============================] - 0s - loss: 0.0078     \n",
      "Epoch 52/100\n",
      "990/990 [==============================] - 0s - loss: 0.0065     \n",
      "Epoch 53/100\n",
      "990/990 [==============================] - 0s - loss: 0.0082     \n",
      "Epoch 54/100\n",
      "990/990 [==============================] - 0s - loss: 0.0054     \n",
      "Epoch 55/100\n",
      "990/990 [==============================] - 0s - loss: 0.0061     \n",
      "Epoch 56/100\n",
      "990/990 [==============================] - 0s - loss: 0.0039     \n",
      "Epoch 57/100\n",
      "990/990 [==============================] - 0s - loss: 0.0031     \n",
      "Epoch 58/100\n",
      "990/990 [==============================] - 0s - loss: 0.0032     \n",
      "Epoch 59/100\n",
      "990/990 [==============================] - 0s - loss: 0.0027     \n",
      "Epoch 60/100\n",
      "990/990 [==============================] - 0s - loss: 0.0021     \n",
      "Epoch 61/100\n",
      "990/990 [==============================] - 0s - loss: 0.0028     \n",
      "Epoch 62/100\n",
      "990/990 [==============================] - 0s - loss: 0.0029     \n",
      "Epoch 63/100\n",
      "990/990 [==============================] - 0s - loss: 0.0014     \n",
      "Epoch 64/100\n",
      "990/990 [==============================] - 0s - loss: 0.0014     \n",
      "Epoch 65/100\n",
      "990/990 [==============================] - 0s - loss: 0.0012     \n",
      "Epoch 66/100\n",
      "990/990 [==============================] - 0s - loss: 0.0010     \n",
      "Epoch 67/100\n",
      "990/990 [==============================] - 0s - loss: 8.3173e-04     \n",
      "Epoch 68/100\n",
      "990/990 [==============================] - 0s - loss: 7.3311e-04     \n",
      "Epoch 69/100\n",
      "990/990 [==============================] - 0s - loss: 6.6496e-04     \n",
      "Epoch 70/100\n",
      "990/990 [==============================] - 0s - loss: 7.3994e-04     \n",
      "Epoch 71/100\n",
      "990/990 [==============================] - 0s - loss: 4.7355e-04     \n",
      "Epoch 72/100\n",
      "990/990 [==============================] - 0s - loss: 4.1195e-04     \n",
      "Epoch 73/100\n",
      "990/990 [==============================] - 0s - loss: 3.6746e-04     \n",
      "Epoch 74/100\n",
      "990/990 [==============================] - 0s - loss: 2.9638e-04     \n",
      "Epoch 75/100\n",
      "990/990 [==============================] - 0s - loss: 4.2941e-04     \n",
      "Epoch 76/100\n",
      "990/990 [==============================] - 0s - loss: 2.3117e-04     \n",
      "Epoch 77/100\n",
      "990/990 [==============================] - 0s - loss: 1.9538e-04     \n",
      "Epoch 78/100\n",
      "990/990 [==============================] - 0s - loss: 1.6086e-04     \n",
      "Epoch 79/100\n",
      "990/990 [==============================] - 0s - loss: 1.4266e-04     \n",
      "Epoch 80/100\n",
      "990/990 [==============================] - 0s - loss: 1.4019e-04     \n",
      "Epoch 81/100\n",
      "990/990 [==============================] - 0s - loss: 3.1736e-04     \n",
      "Epoch 82/100\n",
      "990/990 [==============================] - 0s - loss: 2.0025e-04     \n",
      "Epoch 83/100\n",
      "990/990 [==============================] - 0s - loss: 8.8678e-05     \n",
      "Epoch 84/100\n",
      "990/990 [==============================] - 0s - loss: 7.6581e-05     \n",
      "Epoch 85/100\n",
      "990/990 [==============================] - 0s - loss: 6.5938e-05     \n",
      "Epoch 86/100\n",
      "990/990 [==============================] - 0s - loss: 5.7773e-05     \n",
      "Epoch 87/100\n",
      "990/990 [==============================] - 0s - loss: 5.0799e-05     \n",
      "Epoch 88/100\n",
      "990/990 [==============================] - 0s - loss: 4.3777e-05     \n",
      "Epoch 89/100\n",
      "990/990 [==============================] - 0s - loss: 3.8137e-05     \n",
      "Epoch 90/100\n",
      "990/990 [==============================] - 0s - loss: 3.5733e-05     \n",
      "Epoch 91/100\n",
      "990/990 [==============================] - 0s - loss: 3.1368e-05     \n",
      "Epoch 92/100\n",
      "990/990 [==============================] - 0s - loss: 2.4861e-05     \n",
      "Epoch 93/100\n",
      "990/990 [==============================] - 0s - loss: 2.2336e-05     \n",
      "Epoch 94/100\n",
      "990/990 [==============================] - 0s - loss: 2.0456e-05     \n",
      "Epoch 95/100\n",
      "990/990 [==============================] - 0s - loss: 1.6944e-05     \n",
      "Epoch 96/100\n",
      "990/990 [==============================] - 0s - loss: 1.5719e-05     \n",
      "Epoch 97/100\n",
      "990/990 [==============================] - 0s - loss: 1.1585e-05     \n",
      "Epoch 98/100\n",
      "990/990 [==============================] - 0s - loss: 1.0318e-05     \n",
      "Epoch 99/100\n",
      "990/990 [==============================] - 0s - loss: 1.2209e-05     \n",
      "Epoch 100/100\n",
      "990/990 [==============================] - 0s - loss: 1.1971e-05     \n"
     ]
    }
   ],
   "source": [
    "history = model.fit(X,y,batch_size =128, nb_epoch = 100, verbose=1)"
   ]
  },
  {
   "cell_type": "code",
   "execution_count": 9,
   "metadata": {
    "collapsed": false
   },
   "outputs": [
    {
     "data": {
      "text/plain": [
       "<matplotlib.text.Text at 0x2becc329978>"
      ]
     },
     "execution_count": 9,
     "metadata": {},
     "output_type": "execute_result"
    },
    {
     "data": {
      "image/png": "[encoded data removed]",
      "text/plain": [
       "<matplotlib.figure.Figure at 0x2becc0d6860>"
      ]
     },
     "metadata": {},
     "output_type": "display_data"
    }
   ],
   "source": [
    "from pylab import rcParams\n",
    "rcParams['figure.figsize']=10,10\n",
    "\n",
    "%matplotlib inline\n",
    "plt.plot(history.history['loss'], 'o-')\n",
    "plt.xlabel('Number of iterations')\n",
    "plt.ylabel('Categorical Crossentropy')"
   ]
  },
  {
   "cell_type": "code",
   "execution_count": 10,
   "metadata": {
    "collapsed": false
   },
   "outputs": [
    {
     "name": "stdout",
     "output_type": "stream",
     "text": [
      "594/594 [==============================] - 0s     \n"
     ]
    }
   ],
   "source": [
    "index = test.pop('id')\n",
    "test = StandardScaler().fit_transform(test)\n",
    "yPred = model.predict_proba(test)\n"
   ]
  },
  {
   "cell_type": "code",
   "execution_count": 11,
   "metadata": {
    "collapsed": true
   },
   "outputs": [],
   "source": [
    "train1 = pd.read_csv('train.csv')\n",
    "yPred = pd.DataFrame(yPred,index = index, columns = sorted(train1.species.unique()))"
   ]
  },
  {
   "cell_type": "code",
   "execution_count": 12,
   "metadata": {
    "collapsed": false
   },
   "outputs": [
    {
     "data": {
      "text/html": [
       "<div>\n",
       "<table border=\"1\" class=\"dataframe\">\n",
       "  <thead>\n",
       "    <tr style=\"text-align: right;\">\n",
       "      <th></th>\n",
       "      <th>Acer_Capillipes</th>\n",
       "      <th>Acer_Circinatum</th>\n",
       "      <th>Acer_Mono</th>\n",
       "      <th>Acer_Opalus</th>\n",
       "      <th>Acer_Palmatum</th>\n",
       "      <th>Acer_Pictum</th>\n",
       "      <th>Acer_Platanoids</th>\n",
       "      <th>Acer_Rubrum</th>\n",
       "      <th>Acer_Rufinerve</th>\n",
       "      <th>Acer_Saccharinum</th>\n",
       "      <th>...</th>\n",
       "      <th>Salix_Fragilis</th>\n",
       "      <th>Salix_Intergra</th>\n",
       "      <th>Sorbus_Aria</th>\n",
       "      <th>Tilia_Oliveri</th>\n",
       "      <th>Tilia_Platyphyllos</th>\n",
       "      <th>Tilia_Tomentosa</th>\n",
       "      <th>Ulmus_Bergmanniana</th>\n",
       "      <th>Viburnum_Tinus</th>\n",
       "      <th>Viburnum_x_Rhytidophylloides</th>\n",
       "      <th>Zelkova_Serrata</th>\n",
       "    </tr>\n",
       "    <tr>\n",
       "      <th>id</th>\n",
       "      <th></th>\n",
       "      <th></th>\n",
       "      <th></th>\n",
       "      <th></th>\n",
       "      <th></th>\n",
       "      <th></th>\n",
       "      <th></th>\n",
       "      <th></th>\n",
       "      <th></th>\n",
       "      <th></th>\n",
       "      <th></th>\n",
       "      <th></th>\n",
       "      <th></th>\n",
       "      <th></th>\n",
       "      <th></th>\n",
       "      <th></th>\n",
       "      <th></th>\n",
       "      <th></th>\n",
       "      <th></th>\n",
       "      <th></th>\n",
       "      <th></th>\n",
       "    </tr>\n",
       "  </thead>\n",
       "  <tbody>\n",
       "    <tr>\n",
       "      <th>4</th>\n",
       "      <td>7.693728e-14</td>\n",
       "      <td>2.421002e-15</td>\n",
       "      <td>1.860142e-19</td>\n",
       "      <td>8.210993e-12</td>\n",
       "      <td>1.092040e-13</td>\n",
       "      <td>3.631284e-12</td>\n",
       "      <td>8.302049e-19</td>\n",
       "      <td>1.070615e-15</td>\n",
       "      <td>9.029632e-15</td>\n",
       "      <td>1.681613e-13</td>\n",
       "      <td>...</td>\n",
       "      <td>2.403225e-15</td>\n",
       "      <td>1.319722e-13</td>\n",
       "      <td>5.499548e-15</td>\n",
       "      <td>3.616856e-17</td>\n",
       "      <td>5.066093e-15</td>\n",
       "      <td>7.221960e-16</td>\n",
       "      <td>1.033657e-17</td>\n",
       "      <td>7.938547e-17</td>\n",
       "      <td>4.047996e-11</td>\n",
       "      <td>5.304998e-19</td>\n",
       "    </tr>\n",
       "    <tr>\n",
       "      <th>7</th>\n",
       "      <td>5.275865e-16</td>\n",
       "      <td>1.062001e-13</td>\n",
       "      <td>1.849125e-13</td>\n",
       "      <td>2.055048e-10</td>\n",
       "      <td>4.178393e-17</td>\n",
       "      <td>4.246650e-12</td>\n",
       "      <td>1.985428e-12</td>\n",
       "      <td>1.425273e-14</td>\n",
       "      <td>7.238676e-16</td>\n",
       "      <td>2.015092e-14</td>\n",
       "      <td>...</td>\n",
       "      <td>2.010544e-13</td>\n",
       "      <td>1.850281e-15</td>\n",
       "      <td>1.418356e-15</td>\n",
       "      <td>1.683013e-19</td>\n",
       "      <td>3.387815e-21</td>\n",
       "      <td>1.117845e-11</td>\n",
       "      <td>2.920784e-14</td>\n",
       "      <td>5.756631e-12</td>\n",
       "      <td>4.366846e-15</td>\n",
       "      <td>4.007426e-15</td>\n",
       "    </tr>\n",
       "    <tr>\n",
       "      <th>9</th>\n",
       "      <td>3.495142e-13</td>\n",
       "      <td>9.999998e-01</td>\n",
       "      <td>1.657906e-12</td>\n",
       "      <td>3.415214e-16</td>\n",
       "      <td>1.861747e-07</td>\n",
       "      <td>2.315573e-10</td>\n",
       "      <td>4.426538e-14</td>\n",
       "      <td>3.091534e-12</td>\n",
       "      <td>3.726860e-09</td>\n",
       "      <td>1.018472e-09</td>\n",
       "      <td>...</td>\n",
       "      <td>4.334668e-13</td>\n",
       "      <td>2.203884e-16</td>\n",
       "      <td>4.680700e-14</td>\n",
       "      <td>4.566718e-15</td>\n",
       "      <td>2.305770e-15</td>\n",
       "      <td>1.115020e-13</td>\n",
       "      <td>4.664034e-11</td>\n",
       "      <td>1.906538e-17</td>\n",
       "      <td>1.047279e-15</td>\n",
       "      <td>4.977681e-09</td>\n",
       "    </tr>\n",
       "    <tr>\n",
       "      <th>12</th>\n",
       "      <td>2.323256e-12</td>\n",
       "      <td>1.573313e-03</td>\n",
       "      <td>4.267835e-09</td>\n",
       "      <td>4.466058e-11</td>\n",
       "      <td>3.336168e-11</td>\n",
       "      <td>5.014669e-12</td>\n",
       "      <td>7.325495e-06</td>\n",
       "      <td>2.404683e-09</td>\n",
       "      <td>1.910187e-07</td>\n",
       "      <td>6.391972e-09</td>\n",
       "      <td>...</td>\n",
       "      <td>3.290674e-10</td>\n",
       "      <td>6.555670e-13</td>\n",
       "      <td>2.922514e-09</td>\n",
       "      <td>1.220311e-12</td>\n",
       "      <td>8.432885e-12</td>\n",
       "      <td>1.702643e-06</td>\n",
       "      <td>1.769647e-04</td>\n",
       "      <td>3.299196e-10</td>\n",
       "      <td>6.433533e-13</td>\n",
       "      <td>2.257440e-05</td>\n",
       "    </tr>\n",
       "    <tr>\n",
       "      <th>13</th>\n",
       "      <td>1.134243e-14</td>\n",
       "      <td>6.023561e-12</td>\n",
       "      <td>2.579393e-18</td>\n",
       "      <td>1.128704e-17</td>\n",
       "      <td>3.517814e-14</td>\n",
       "      <td>1.840741e-16</td>\n",
       "      <td>1.840130e-12</td>\n",
       "      <td>5.054283e-14</td>\n",
       "      <td>4.286385e-09</td>\n",
       "      <td>4.632485e-13</td>\n",
       "      <td>...</td>\n",
       "      <td>3.543055e-12</td>\n",
       "      <td>1.943623e-17</td>\n",
       "      <td>2.805131e-11</td>\n",
       "      <td>6.989069e-15</td>\n",
       "      <td>8.133604e-12</td>\n",
       "      <td>4.412466e-12</td>\n",
       "      <td>1.475574e-08</td>\n",
       "      <td>6.835898e-15</td>\n",
       "      <td>9.399320e-14</td>\n",
       "      <td>7.156448e-15</td>\n",
       "    </tr>\n",
       "  </tbody>\n",
       "</table>\n",
       "<p>5 rows × 99 columns</p>\n",
       "</div>"
      ],
      "text/plain": [
       "    Acer_Capillipes  Acer_Circinatum     Acer_Mono   Acer_Opalus  \\\n",
       "id                                                                 \n",
       "4      7.693728e-14     2.421002e-15  1.860142e-19  8.210993e-12   \n",
       "7      5.275865e-16     1.062001e-13  1.849125e-13  2.055048e-10   \n",
       "9      3.495142e-13     9.999998e-01  1.657906e-12  3.415214e-16   \n",
       "12     2.323256e-12     1.573313e-03  4.267835e-09  4.466058e-11   \n",
       "13     1.134243e-14     6.023561e-12  2.579393e-18  1.128704e-17   \n",
       "\n",
       "    Acer_Palmatum   Acer_Pictum  Acer_Platanoids   Acer_Rubrum  \\\n",
       "id                                                               \n",
       "4    1.092040e-13  3.631284e-12     8.302049e-19  1.070615e-15   \n",
       "7    4.178393e-17  4.246650e-12     1.985428e-12  1.425273e-14   \n",
       "9    1.861747e-07  2.315573e-10     4.426538e-14  3.091534e-12   \n",
       "12   3.336168e-11  5.014669e-12     7.325495e-06  2.404683e-09   \n",
       "13   3.517814e-14  1.840741e-16     1.840130e-12  5.054283e-14   \n",
       "\n",
       "    Acer_Rufinerve  Acer_Saccharinum       ...         Salix_Fragilis  \\\n",
       "id                                         ...                          \n",
       "4     9.029632e-15      1.681613e-13       ...           2.403225e-15   \n",
       "7     7.238676e-16      2.015092e-14       ...           2.010544e-13   \n",
       "9     3.726860e-09      1.018472e-09       ...           4.334668e-13   \n",
       "12    1.910187e-07      6.391972e-09       ...           3.290674e-10   \n",
       "13    4.286385e-09      4.632485e-13       ...           3.543055e-12   \n",
       "\n",
       "    Salix_Intergra   Sorbus_Aria  Tilia_Oliveri  Tilia_Platyphyllos  \\\n",
       "id                                                                    \n",
       "4     1.319722e-13  5.499548e-15   3.616856e-17        5.066093e-15   \n",
       "7     1.850281e-15  1.418356e-15   1.683013e-19        3.387815e-21   \n",
       "9     2.203884e-16  4.680700e-14   4.566718e-15        2.305770e-15   \n",
       "12    6.555670e-13  2.922514e-09   1.220311e-12        8.432885e-12   \n",
       "13    1.943623e-17  2.805131e-11   6.989069e-15        8.133604e-12   \n",
       "\n",
       "    Tilia_Tomentosa  Ulmus_Bergmanniana  Viburnum_Tinus  \\\n",
       "id                                                        \n",
       "4      7.221960e-16        1.033657e-17    7.938547e-17   \n",
       "7      1.117845e-11        2.920784e-14    5.756631e-12   \n",
       "9      1.115020e-13        4.664034e-11    1.906538e-17   \n",
       "12     1.702643e-06        1.769647e-04    3.299196e-10   \n",
       "13     4.412466e-12        1.475574e-08    6.835898e-15   \n",
       "\n",
       "    Viburnum_x_Rhytidophylloides  Zelkova_Serrata  \n",
       "id                                                 \n",
       "4                   4.047996e-11     5.304998e-19  \n",
       "7                   4.366846e-15     4.007426e-15  \n",
       "9                   1.047279e-15     4.977681e-09  \n",
       "12                  6.433533e-13     2.257440e-05  \n",
       "13                  9.399320e-14     7.156448e-15  \n",
       "\n",
       "[5 rows x 99 columns]"
      ]
     },
     "execution_count": 12,
     "metadata": {},
     "output_type": "execute_result"
    }
   ],
   "source": [
    "yPred.head()"
   ]
  },
  {
   "cell_type": "code",
   "execution_count": 13,
   "metadata": {
    "collapsed": false
   },
   "outputs": [
    {
     "data": {
      "text/plain": [
       "(594, 99)"
      ]
     },
     "execution_count": 13,
     "metadata": {},
     "output_type": "execute_result"
    }
   ],
   "source": [
    "yPred.shape"
   ]
  },
  {
   "cell_type": "code",
   "execution_count": 14,
   "metadata": {
    "collapsed": true
   },
   "outputs": [],
   "source": [
    "yPred.to_csv('NN_submission.csv')"
   ]
  },
  {
   "cell_type": "code",
   "execution_count": null,
   "metadata": {
    "collapsed": true
   },
   "outputs": [],
   "source": []
  }
 ],
 "metadata": {
  "kernelspec": {
   "display_name": "Python [Root]",
   "language": "python",
   "name": "Python [Root]"
  },
  "language_info": {
   "codemirror_mode": {
    "name": "ipython",
    "version": 3
   },
   "file_extension": ".py",
   "mimetype": "text/x-python",
   "name": "python",
   "nbconvert_exporter": "python",
   "pygments_lexer": "ipython3",
   "version": "3.5.2"
  }
 },
 "nbformat": 4,
 "nbformat_minor": 0
}
